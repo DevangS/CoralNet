{
 "metadata": {
  "name": "coralnet_robotstats_plots"
 }, 
 "nbformat": 2, 
 "worksheets": [
  {
   "cells": [
    {
     "cell_type": "code", 
     "collapsed": false, 
     "input": [
      "from images.scripts_helper import RobotStats", 
      "import cPickle as pickle", 
      "", 
      "#import images.scripts", 
      "f = open('/home/beijbom/rs3.pkl', 'r')", 
      "db = pickle.load(f)"
     ], 
     "language": "python", 
     "outputs": [], 
     "prompt_number": 17
    }, 
    {
     "cell_type": "code", 
     "collapsed": false, 
     "input": [
      "from numpy import histogram", 
      "import matplotlib.pyplot as plt", 
      "from matplotlib import *", 
      "import numpy as np", 
      "%matplotlib inline", 
      "db1=[(row) for row in db if row.fullacc>.5]", 
      "histogram(list(map((lambda x: x.fullacc), db1)))", 
      "", 
      "", 
      ""
     ], 
     "language": "python", 
     "outputs": [
      {
       "output_type": "stream", 
       "stream": "stderr", 
       "text": [
        "ERROR: Magic function `matplotlib` not found."
       ]
      }, 
      {
       "output_type": "pyout", 
       "prompt_number": 31, 
       "text": [
        "(array([ 1,  0,  0,  0,  0,  3,  0, 15,  0,  3]),", 
        " array([ 0.53333336,  0.56250002,  0.59166669,  0.62083335,  0.65000001,", 
        "        0.67916667,  0.70833334,  0.7375    ,  0.76666666,  0.79583333,", 
        "        0.82499999]))"
       ]
      }
     ], 
     "prompt_number": 31
    }, 
    {
     "cell_type": "code", 
     "collapsed": false, 
     "input": [
      "import IPython", 
      "print IPython.sys_info()"
     ], 
     "language": "python", 
     "outputs": [
      {
       "output_type": "stream", 
       "stream": "stdout", 
       "text": [
        "{'commit_hash': '<not found>',", 
        " 'commit_source': '(none found)',", 
        " 'ipython_path': '/usr/lib/python2.7/dist-packages/IPython',", 
        " 'ipython_version': '0.12.1',", 
        " 'os_name': 'posix',", 
        " 'platform': 'Linux-3.2.0-80-generic-x86_64-with-Ubuntu-12.04-precise',", 
        " 'sys_executable': '/usr/bin/python',", 
        " 'sys_platform': 'linux2',", 
        " 'sys_version': '2.7.3 (default, Dec 18 2014, 19:10:20) \\n[GCC 4.6.3]'}"
       ]
      }
     ], 
     "prompt_number": 32
    }
   ]
  }
 ]
}